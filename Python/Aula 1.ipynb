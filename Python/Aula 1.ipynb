{
 "cells": [
  {
   "cell_type": "markdown",
   "metadata": {},
   "source": [
    "<h1>ADA TECH CODING TANK \n",
    "PYTHON </h1>\n",
    "\n",
    "Bruno Issamo, cientista de dados, ADA 4 anos.\n",
    "Damodara Barbosa, auxiliar.\n",
    "avaliação na Sexta feira, praticar com o conteúdo da aula. \n",
    "Geralmente códigos que tem que fazer respondendo as perguntas e mandando os códigos. \n",
    "\n",
    "Variáveis\n",
    "tipos básicos\n",
    "entradas e saídas\n",
    "operadores aritméticos, atribuição e comparação \n",
    "\n",
    "Deixar o código sempre o mais comentado possível. \n",
    "\n",
    "\n"
   ]
  },
  {
   "cell_type": "markdown",
   "metadata": {},
   "source": [
    "| Operador | Nome | Função |\n",
    "| :---         |     :---:      |          :---: |\n",
    "| +  | adicao     | soma de operandos   |\n",
    "| -     | subtracao       | subtracao dos operandos      |\n",
    "| *     | multiplicaçao       | multiplicacao dos operandos    |\n",
    "| /    | divisao      | divisao dos operandos      |\n",
    "| //     | divisao inteira      | divisao dos operandos descartando a parte decimal    |\n",
    "| %     | módulo      | resto da divisao      |\n",
    "| **     | exponenciacao       | elevaçao da potencia     |"
   ]
  },
  {
   "cell_type": "markdown",
   "metadata": {},
   "source": [
    "<h2> TIPOS DE VARIÁVEIS </h2>\n",
    "\n",
    "- Int: Números inteiros. \n",
    "- Float: números reais com partes decimais\n",
    "- str: cadeia de caracteres textuais (string)\n",
    "- bool: valores lógicos (booleanos) true ou false\n"
   ]
  },
  {
   "cell_type": "code",
   "execution_count": 3,
   "metadata": {},
   "outputs": [
    {
     "data": {
      "text/plain": [
       "bool"
      ]
     },
     "execution_count": 3,
     "metadata": {},
     "output_type": "execute_result"
    }
   ],
   "source": [
    "idade = 26\n",
    "altura = 1.72\n",
    "nome = \"Jonatha\"\n",
    "estudando = True #(com T maiusculo OU False)\n",
    "\n",
    "type(nome)\n",
    "type(altura)\n",
    "type(nome)\n",
    "type(estudando)"
   ]
  },
  {
   "cell_type": "markdown",
   "metadata": {},
   "source": [
    "#TOMAR CUIDADO POIS AS CÉLULAS SÃO INDEPENDENTES\n",
    "- o Python é case sensitivy, diferencia minusculas de maiusculas\n"
   ]
  },
  {
   "cell_type": "code",
   "execution_count": 6,
   "metadata": {},
   "outputs": [
    {
     "data": {
      "text/plain": [
       "22"
      ]
     },
     "execution_count": 6,
     "metadata": {},
     "output_type": "execute_result"
    }
   ],
   "source": [
    "idade = input(\"Insira aqui a idade\")\n",
    "idade\n",
    "#precisa converter idade para int senao fica como str\n",
    "\n",
    "int(idade)"
   ]
  },
  {
   "cell_type": "markdown",
   "metadata": {},
   "source": [
    "Quando converte float para int pode perder dados pois elimina os decimais\n",
    "algumas conversoes nao sao possiveis"
   ]
  },
  {
   "cell_type": "code",
   "execution_count": null,
   "metadata": {},
   "outputs": [],
   "source": [
    "#Ou podemos ja definir direto no input sem precisar converter depois\n",
    "idade = int(input(\"Insira aqui a sua idade\"))\n",
    "\n",
    "# print() é algo que eu quero imprimir na tela\n",
    "\n"
   ]
  },
  {
   "cell_type": "code",
   "execution_count": 7,
   "metadata": {},
   "outputs": [
    {
     "name": "stdout",
     "output_type": "stream",
     "text": [
      "Olá, meu nome é jonatha, tenho 22 anos, meu hobby é jogar video game\n"
     ]
    }
   ],
   "source": [
    "nome = input('Escreva seu nome')\n",
    "idade = int(input('Escreva sua idade'))\n",
    "hobby = input('Qual o seu hobby?')\n",
    "\n",
    "print(f'Olá, meu nome é {nome}, tenho {idade} anos, meu hobby é {hobby}')"
   ]
  },
  {
   "cell_type": "markdown",
   "metadata": {},
   "source": [
    "| Operador | Nome | \n",
    "| :---         |     :---:      |  \n",
    "| =  | i = i     | \n",
    "| +=     | i = i + 1       | \n",
    "| -=     | i = i - 1       | \n",
    "| *=   | i = i * 1       | \n",
    "| /=     | i = i / 1    | \n"
   ]
  },
  {
   "cell_type": "markdown",
   "metadata": {},
   "source": []
  },
  {
   "cell_type": "code",
   "execution_count": 8,
   "metadata": {},
   "outputs": [
    {
     "name": "stdout",
     "output_type": "stream",
     "text": [
      "sua idade é de 28\n"
     ]
    }
   ],
   "source": [
    "nasc = int(input('insira o seu ano de nascimento'))\n",
    "ano = int(input('insira o ano que estamos'))\n",
    "idade = ano - nasc\n",
    "\n",
    "print(f'sua idade é de {idade}')"
   ]
  }
 ],
 "metadata": {
  "kernelspec": {
   "display_name": "Python 3",
   "language": "python",
   "name": "python3"
  },
  "language_info": {
   "codemirror_mode": {
    "name": "ipython",
    "version": 3
   },
   "file_extension": ".py",
   "mimetype": "text/x-python",
   "name": "python",
   "nbconvert_exporter": "python",
   "pygments_lexer": "ipython3",
   "version": "3.12.4"
  }
 },
 "nbformat": 4,
 "nbformat_minor": 2
}
