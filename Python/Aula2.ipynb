{
 "cells": [
  {
   "cell_type": "markdown",
   "metadata": {},
   "source": [
    "5) Escreva um programa que peça a nota de 3 provas de um aluno e verifique se ele passou ou não de ano.\n",
    "Obs.: O aluno irá passar de ano se sua média for maior que 6."
   ]
  },
  {
   "cell_type": "code",
   "execution_count": 1,
   "metadata": {},
   "outputs": [
    {
     "name": "stdout",
     "output_type": "stream",
     "text": [
      "aprovado\n"
     ]
    }
   ],
   "source": [
    "nota1 = float(input('Primeira nota:'))\n",
    "nota2 = float(input('Segunda nota:'))\n",
    "nota3 = float(input('Terceira nota:'))\n",
    "media = (nota1+nota2+nota3)/3\n",
    "if media>6:\n",
    "    print('aprovado')\n",
    "else:\n",
    "    print('reprovado')"
   ]
  },
  {
   "cell_type": "markdown",
   "metadata": {},
   "source": [
    "6) Faça um programa que mostre uma questão de múltipla escolha com 5 opções (letras a, b, c, d, e). \n",
    "Sabendo a resposta certa, o programa deve receber a opção do usuário e informar a letra que o usuário marcou e se a resposta está certa ou errada."
   ]
  },
  {
   "cell_type": "code",
   "execution_count": 2,
   "metadata": {},
   "outputs": [
    {
     "name": "stdout",
     "output_type": "stream",
     "text": [
      "Qual a capital federal do Brasil?\n",
      "a)Brasilia\n",
      "b)Salvador\n",
      "c)Rio de Janeiro\n",
      "d)São Paulo\n",
      "e)Manaus\n",
      "Correto\n"
     ]
    }
   ],
   "source": [
    "print('Qual a capital federal do Brasil?\\na)Brasilia\\nb)Salvador\\nc)Rio de Janeiro\\nd)São Paulo\\ne)Manaus')\n",
    "resposta = input('Responda com a alternativa correta:')\n",
    "if resposta.lower() == 'a':\n",
    "    print('Correto')\n",
    "else: \n",
    "    print('Errado')"
   ]
  },
  {
   "cell_type": "markdown",
   "metadata": {},
   "source": [
    "7)Vamos fazer um programa para verificar quem é o assassino de um crime. Para descobrir o assassino, \n",
    "a polícia faz um pequeno questionário com 5 perguntas \n",
    "onde a resposta só pode ser sim ou não:\n",
    "\n",
    "a. Mora perto da vítima?\n",
    "\n",
    "b. Já trabalhou com a vítima?\n",
    "\n",
    "c. Telefonou para a vítima?\n",
    "\n",
    "d. Esteve no local do crime?\n",
    "\n",
    "e. Devia para a vítima?\n",
    "\n",
    "Cada resposta sim dá um ponto para o suspeito. A polícia considera que os suspeitos com 5 pontos são os assassinos, com 4 a 3 pontos \n",
    "são cúmplices e 2 pontos são apenas suspeitos, necessitando outras investigações. Valores iguais ou abaixo de 1 são liberados."
   ]
  },
  {
   "cell_type": "code",
   "execution_count": 50,
   "metadata": {},
   "outputs": [
    {
     "name": "stdout",
     "output_type": "stream",
     "text": [
      "inválido\n",
      "responder somente com sim ou não\n",
      "\n",
      "Resultado: Liberado\n"
     ]
    }
   ],
   "source": [
    "culpado = 0\n",
    "a = input('a. Mora perto da vítima?')\n",
    "if a.lower() == 'sim':\n",
    "        culpado += 1\n",
    "elif a.lower() != 'não':\n",
    "     culpado = 'inválido'\n",
    "\n",
    "     \n",
    "b = input('b. Já trabalhou com a vítima?')\n",
    "if b.lower() == 'sim':\n",
    "        culpado += 1\n",
    "elif b.lower() != 'não':\n",
    "     culpado = 'inválido'\n",
    "\n",
    "c = input('c. Telefonou para a vítima?')\n",
    "if c.lower() == 'sim':\n",
    "        culpado += 1\n",
    "elif c.lower() != 'não':\n",
    "     culpado = 'inválido'\n",
    "\n",
    "d = input('d. Esteve no local do crime?')\n",
    "if d.lower() == 'sim':\n",
    "        culpado += 1\n",
    "elif d.lower() != 'não':\n",
    "     culpado = 'inválido'\n",
    "\n",
    "e = input('e. Devia para a vítima?')\n",
    "if e.lower() == 'sim':\n",
    "        culpado += 1\n",
    "elif e.lower() != 'não':\n",
    "     culpado = 'inválido'\n",
    "     \n",
    "\n",
    "if culpado == 'inválido':\n",
    "        resultado = 'responder somente com sim ou não'\n",
    "elif culpado == 5:\n",
    "        resultado = \"Assassino\"\n",
    "elif culpado == 4 or culpado == 3:\n",
    "        resultado = \"Cúmplice\"\n",
    "elif culpado == 2:\n",
    "        resultado = \"Suspeito\"\n",
    "else:\n",
    "        resultado = \"Liberado\"\n",
    "\n",
    "print(f\"\\nResultado: {resultado}\")\n",
    "\n",
    "\n",
    "\n"
   ]
  },
  {
   "cell_type": "markdown",
   "metadata": {},
   "source": [
    "\n",
    "8) Um produto vai sofrer aumento de acordo com a Tabela 1 abaixo. Faça um programa que peça para o usuário digitar o valor do produto de acordo \n",
    "com o preço antigo e escreva uma das mensagens da Tabela 2, de acordo com o preço reajustado:\n",
    "\n",
    "Tabela 1\n",
    "\n",
    "| Preço Antigo         | % de aumento |\n",
    "|----------------------|--------------|\n",
    "| Até 50 reais         | 5%           |\n",
    "| Entre 50 e 100 reais | 10%          |\n",
    "| De 100 a 150 reais   | 13%          |\n",
    "| Acima de 150 reais   | 15%          |\n",
    "Tabela 2\n",
    "\n",
    "| Preço Novo            | Mensagem   |\n",
    "|-----------------------|------------|\n",
    "| Até 80 reais          | Barato     |\n",
    "| Entre 80 e 115 reais  | Razoável   |\n",
    "| Entre 115 e 150 reais | Normal     |\n",
    "| Entre 150 e 170 reais | Caro       |\n",
    "| Acima de 170 reais    | Muito Caro |"
   ]
  },
  {
   "cell_type": "code",
   "execution_count": 63,
   "metadata": {},
   "outputs": [
    {
     "name": "stdout",
     "output_type": "stream",
     "text": [
      "Razoável\n"
     ]
    }
   ],
   "source": [
    "valor = float(input('digite o valor antigo:'))\n",
    "#AUMENTO\n",
    "if valor <= 50: #até igual 50\n",
    "    valor = valor*1.05\n",
    "elif valor <100: #menor que 100\n",
    "    valor = valor*1.1 \n",
    "elif valor <150: #menor que 150\n",
    "    valor = valor*1.13\n",
    "elif valor >=150: #maior ou igual a 150\n",
    "    valor = valor*1.15\n",
    "valor\n",
    "#MENSAGEM\n",
    "if valor <= 80:\n",
    "    print('Barato')\n",
    "elif valor <115:\n",
    "    print('Razoável')\n",
    "elif valor <150:\n",
    "    print('Normal')\n",
    "elif valor <170:\n",
    "    print('Caro')\n",
    "elif valor >=170:\n",
    "    print('Muito Caro')"
   ]
  },
  {
   "cell_type": "markdown",
   "metadata": {},
   "source": [
    "9) Desafio 1 - Faça um programa que leia 3 números e informe o maior deles."
   ]
  },
  {
   "cell_type": "code",
   "execution_count": 64,
   "metadata": {},
   "outputs": [
    {
     "name": "stdout",
     "output_type": "stream",
     "text": [
      "o maior número é: 2\n"
     ]
    }
   ],
   "source": [
    "num1 = int(input('Primeiro numero:'))\n",
    "num2 = int(input('Segundo numero:'))\n",
    "num3 = int(input('Terceiro numero:'))\n",
    "\n",
    "if num1 > num2 and num1 > num3:\n",
    "    maior = num1\n",
    "elif num2 > num1 and num2 > num3:\n",
    "    maior = num2\n",
    "elif num3 > num1 and num3 > num2:\n",
    "    maior = num3\n",
    "else:\n",
    "    maior=num1\n",
    "\n",
    "print(f'o maior número é: {maior}')\n"
   ]
  }
 ],
 "metadata": {
  "kernelspec": {
   "display_name": "Python 3",
   "language": "python",
   "name": "python3"
  },
  "language_info": {
   "codemirror_mode": {
    "name": "ipython",
    "version": 3
   },
   "file_extension": ".py",
   "mimetype": "text/x-python",
   "name": "python",
   "nbconvert_exporter": "python",
   "pygments_lexer": "ipython3",
   "version": "3.12.4"
  }
 },
 "nbformat": 4,
 "nbformat_minor": 2
}
