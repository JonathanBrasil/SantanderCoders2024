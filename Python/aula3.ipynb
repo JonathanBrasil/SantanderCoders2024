{
 "cells": [
  {
   "cell_type": "markdown",
   "metadata": {},
   "source": [
    "#AULA 03\n",
    "\n",
    "- Estruturas de repetição\n",
    "- Loop while\n",
    "\n",
    "While é necessário usar quando preciso atender uma condição e ENQUANTO essa condição não for atingida o loop será executado."
   ]
  },
  {
   "cell_type": "code",
   "execution_count": 1,
   "metadata": {},
   "outputs": [
    {
     "name": "stdout",
     "output_type": "stream",
     "text": [
      "Seu salário 500.0\n"
     ]
    }
   ],
   "source": [
    "salario = float(input('digite o seu salário:'))\n",
    "\n",
    "while salario < 500:\n",
    "    salario = float(input('Salário inválido: Digite um salário válido:'))\n",
    "\n",
    "print('Seu salário', salario)"
   ]
  },
  {
   "cell_type": "markdown",
   "metadata": {},
   "source": []
  },
  {
   "cell_type": "markdown",
   "metadata": {},
   "source": [
    "- COMANDO BREAK\n",
    "\n",
    "Usado para interromper a execução \n",
    "\n",
    "- COMANDO CONTINUE\n",
    "\n",
    "Utilizado para pular a iteração atual de um laço e continuar para a proxima iteração\n",
    "\n",
    "- COMANDO PASS\n",
    "\n",
    "É usado como espaço reservado para código futuro. Usado para evitar erros de sintaxe em blocos vazios"
   ]
  },
  {
   "cell_type": "markdown",
   "metadata": {},
   "source": [
    "1) Exercício: Criar um jogo simples em que o jogador tenta adivinhar um número secreto. O jogo continua até o jogador adivinhar corretamente ou desistir"
   ]
  },
  {
   "cell_type": "code",
   "execution_count": null,
   "metadata": {},
   "outputs": [],
   "source": [
    "numero_secreto = 48\n",
    "\n",
    "while True:\n",
    "    chute = int(input(\"Digite o número secreto:\"))\n",
    "\n",
    "    if chute == numero_secreto:\n",
    "        print(\"Parabéns\")\n",
    "        break #vai encerrar a execução do while\n",
    "    elif chute < numero_secreto:\n",
    "        print(\"Tente um número maior\")\n",
    "    else:\n",
    "        print(\"Tente um número menor\")"
   ]
  },
  {
   "cell_type": "markdown",
   "metadata": {},
   "source": [
    "1) Escreva um programa que solicite um número inteiro e imprima na tela todos os números de 1 até o número digitado, separado por espaços.  \n",
    "Exemplo  \n",
    "número digitado: 5  \n",
    "resultado esperado: 1 2 3 4 5"
   ]
  },
  {
   "cell_type": "code",
   "execution_count": 16,
   "metadata": {},
   "outputs": [
    {
     "name": "stdout",
     "output_type": "stream",
     "text": [
      "1 2 3 4 5 "
     ]
    }
   ],
   "source": [
    "num = int(input('digite um número'))\n",
    "contador = 0\n",
    "while contador < num:\n",
    "    contador += 1\n",
    "    print(contador, end=' ')"
   ]
  },
  {
   "cell_type": "markdown",
   "metadata": {},
   "source": [
    "2) Faça um programa que mostre o fatorial de um número digitado.  \n",
    "Exemplo  \n",
    "número digitado: 5  \n",
    "resultado esperado: 120"
   ]
  },
  {
   "cell_type": "code",
   "execution_count": 15,
   "metadata": {},
   "outputs": [
    {
     "name": "stdout",
     "output_type": "stream",
     "text": [
      "1\n",
      "2\n",
      "6\n",
      "24\n",
      "120\n"
     ]
    }
   ],
   "source": [
    "num = int(input('digite um número:'))\n",
    "contador = 0\n",
    "fatorial = 1\n",
    "while contador < num:\n",
    "    contador += 1\n",
    "    fatorial *= contador\n",
    "\n",
    "    print(fatorial)"
   ]
  },
  {
   "cell_type": "markdown",
   "metadata": {},
   "source": [
    "3) Faça um programa que imprima a tabuada do 9 na tela (entre 1 e 10). Insira a conta, por exemplo, 9 * 1 = 9, sendo cada um dos valores em uma linha diferente."
   ]
  },
  {
   "cell_type": "code",
   "execution_count": 8,
   "metadata": {},
   "outputs": [
    {
     "name": "stdout",
     "output_type": "stream",
     "text": [
      "9 * 1 = 9\n",
      "9 * 2 = 18\n",
      "9 * 3 = 27\n",
      "9 * 4 = 36\n",
      "9 * 5 = 45\n",
      "9 * 6 = 54\n",
      "9 * 7 = 63\n",
      "9 * 8 = 72\n",
      "9 * 9 = 81\n",
      "9 * 10 = 90\n"
     ]
    }
   ],
   "source": [
    "multiplicador=0\n",
    "\n",
    "while mutiplicador < 10:\n",
    "    multiplicador+= 1\n",
    "    resultado = 9*multiplicador\n",
    "    print(f\"9 * {multiplicador} = {resultado}\")"
   ]
  },
  {
   "cell_type": "markdown",
   "metadata": {},
   "source": [
    "4) Faça um programa em que o usuário digite números quaisquer e encerrará no momento em que o valor 0 seja digitado. Ao final diga qual foi o maior número digitado."
   ]
  },
  {
   "cell_type": "code",
   "execution_count": null,
   "metadata": {},
   "outputs": [],
   "source": []
  },
  {
   "cell_type": "markdown",
   "metadata": {},
   "source": [
    "5) Faça um script que peça para o usuário digitar a idade, o salário e o sexo de uma pessoa até que as entradas digitadas sejam válidas.\n",
    "\n",
    "a. Idade: entre 0 e 150\n",
    "b. Salário: maior que 0\n",
    "c. Gênero: M, F ou Outro\n",
    "\n",
    "Por último imprima os dados recebidos do usuário."
   ]
  },
  {
   "cell_type": "code",
   "execution_count": null,
   "metadata": {},
   "outputs": [],
   "source": []
  },
  {
   "cell_type": "markdown",
   "metadata": {},
   "source": [
    "6) Faça uma calculadora. O usuário deve inserir qual a operação matemática ele deseja realizar e logo em seguida os dois números. O programa deve finalizar apenas quando o usuário digitar a opção \"sair\" no momento de escolha da operação matemática."
   ]
  },
  {
   "cell_type": "code",
   "execution_count": null,
   "metadata": {},
   "outputs": [],
   "source": []
  }
 ],
 "metadata": {
  "kernelspec": {
   "display_name": "Python 3",
   "language": "python",
   "name": "python3"
  },
  "language_info": {
   "codemirror_mode": {
    "name": "ipython",
    "version": 3
   },
   "file_extension": ".py",
   "mimetype": "text/x-python",
   "name": "python",
   "nbconvert_exporter": "python",
   "pygments_lexer": "ipython3",
   "version": "3.12.4"
  }
 },
 "nbformat": 4,
 "nbformat_minor": 2
}
